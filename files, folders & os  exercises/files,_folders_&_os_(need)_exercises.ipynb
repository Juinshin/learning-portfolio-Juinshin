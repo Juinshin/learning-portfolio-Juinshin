{
 "cells": [
  {
   "attachments": {},
   "cell_type": "markdown",
   "id": "123456",
   "metadata": {},
   "source": [
    "<div style=\"text-align:left;font-size:2em\"><span style=\"font-weight:bolder;font-size:1.25em\">SP2273 | Learning Portfolio</span><br><br><span style=\"font-weight:bold;color:darkred\">Files, Folders & OS (Need) Exercises</span></div>"
   ]
  },
  {
   "cell_type": "code",
   "execution_count": 4,
   "id": "55e6acd6-930c-4c44-90e6-ea1ef0aaa116",
   "metadata": {},
   "outputs": [],
   "source": [
    "from pathlib import Path\n",
    "\n",
    "# Define the month dictionary\n",
    "month_dict = {\n",
    "    'jan': '01', 'feb': '02', 'mar': '03',\n",
    "    'apr': '04', 'may': '05', 'jun': '06',\n",
    "    'jul': '07', 'aug': '08', 'sep': '09',\n",
    "    'oct': '10', 'nov': '11', 'dec': '12'\n",
    "}\n",
    "\n",
    "# Specify the folder path\n",
    "folder_path = Path('os-collaboration-exercise-data')\n",
    "\n",
    "# Loop through all .txt files in the folder and rename them\n",
    "for file_path in folder_path.glob('*.txt'):\n",
    "    parts = file_path.stem.replace('_', '-').split('-')  # Replace '_' with '-' and then split\n",
    "    new_filename = f\"{month_dict.get(parts[0])}-{parts[1]}_{parts[2]}.txt\"\n",
    "    file_path.rename(file_path.with_name(new_filename))"
   ]
  },
  {
   "cell_type": "code",
   "execution_count": 7,
   "id": "1fefa335-63f1-45ae-94fa-2e65f761980c",
   "metadata": {},
   "outputs": [],
   "source": [
    "import shutil\n",
    "\n",
    "# List of cities\n",
    "cities = ['Cairo', 'Dhaka', 'Jakarta', 'Karachi', 'Manila', 'Melbourne', 'Osaka', 'Shanghai', 'Singapore', 'Tokyo']\n",
    "\n",
    "# Specify the base folder path\n",
    "base_folder = Path('os-collaboration-exercise-data')\n",
    "\n",
    "# Create folders for the cities and move files\n",
    "for city in cities:\n",
    "    city_folder = base_folder / city\n",
    "    city_folder.mkdir(exist_ok=True)  # Create the city folder if it doesn't exist\n",
    "    for file_path in base_folder.glob('*.txt'):\n",
    "        if file_path.stem.split('_')[-1].lower() == city.lower():\n",
    "            shutil.move(file_path, city_folder / file_path.name)"
   ]
  }
 ],
 "metadata": {
  "kernelspec": {
   "display_name": "Python 3 (ipykernel)",
   "language": "python",
   "name": "python3"
  },
  "language_info": {
   "codemirror_mode": {
    "name": "ipython",
    "version": 3
   },
   "file_extension": ".py",
   "mimetype": "text/x-python",
   "name": "python",
   "nbconvert_exporter": "python",
   "pygments_lexer": "ipython3",
   "version": "3.11.5"
  },
  "toc": {
   "base_numbering": 1,
   "nav_menu": {},
   "number_sections": true,
   "sideBar": true,
   "skip_h1_title": false,
   "title_cell": "Table of Contents",
   "title_sidebar": "Contents",
   "toc_cell": false,
   "toc_position": {},
   "toc_section_display": true,
   "toc_window_display": false
  },
  "vscode": {
   "interpreter": {
    "hash": "31f2aee4e71d21fbe5cf8b01ff0e069b9275f58929596ceb00d14d90e3e16cd6"
   }
  }
 },
 "nbformat": 4,
 "nbformat_minor": 5
}
