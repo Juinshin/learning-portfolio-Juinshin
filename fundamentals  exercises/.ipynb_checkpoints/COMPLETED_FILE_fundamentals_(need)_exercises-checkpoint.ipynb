{
 "cells": [
  {
   "attachments": {},
   "cell_type": "markdown",
   "id": "123456",
   "metadata": {},
   "source": [
    "<div style=\"text-align:left;font-size:2em\"><span style=\"font-weight:bolder;font-size:1.25em\">SP2273 | Learning Portfolio</span><br><br><span style=\"font-weight:bold;color:darkred\">Fundamentals (Need) Exercises</span></div>"
   ]
  },
  {
   "cell_type": "markdown",
   "id": "5a7abcb3-a2dc-40c3-91ad-855c0f54fdc4",
   "metadata": {},
   "source": [
    "1. \"I Wanna Sleep\".split()\n",
    "2. import numpy as np\n",
    "3. import math as meh\n",
    "4. meh.sqrt(5)\n",
    "5. np.sqrt([5,6,7])\n",
    "6.  2*3**(2-3+2)/5\n",
    "7.  hours_sleep_wk = {'Mon': '3', 'Tues': '5'}\n",
    "8.  print(hours_sleep_wk['Mon'])\n",
    "9.  task_list = [[1, \"sleep\"], [2, \"eat\"]]\n",
    "10.  if x == 5:\n",
    "    print('=')\n",
    "else:\n",
    "    print('sleep')"
   ]
  },
  {
   "cell_type": "code",
   "execution_count": 8,
   "id": "98b23216-64d7-462b-94f7-94ecba17026e",
   "metadata": {},
   "outputs": [
    {
     "name": "stdout",
     "output_type": "stream",
     "text": [
      "3 4 5\n"
     ]
    }
   ],
   "source": [
    "import numpy as np\n",
    "x, y = 3, 4\n",
    "z = int(np.sqrt(x**2 + y**2))\n",
    "print(x, y, z)"
   ]
  },
  {
   "cell_type": "markdown",
   "id": "ad822e76-cfd2-4fea-a20f-4192126acbdf",
   "metadata": {},
   "source": [
    "|  # | Term         | Description                                                                           |\r\n",
    "|:--:|--------------|---------------------------------------------------------------------------------------|\r\n",
    "|  1 | Function     | Reusable code that performs a specific task when called.                              |\r\n",
    "|  2 | Arguments    | The values passed inside the () of a function, specifying the inputs for the function |\r\n",
    "|  3 | Comments     | Non-executable text used to explain code and make it more readable.                   |\r\n",
    "|  4 | Indentations | Whitespace at the beginning of a line to define a block of code in Python.            |\r\n",
    "|  5 | Packages     | Module which has pre-coded functions that can be called.                              |\r\n",
    "|  6 | .            | The dot is used to attribute a function to an object.                                 |\r\n",
    "|  7 | :            | The colon is used to define the beginning of an indented code block in Python.        |\r\n",
    "|  8 | []           | Square brackets are used to create a list in Python.                                  |\r\n",
    "|  9 | [[[]]]       | A nested list structure in Python.                                                    |\r\n",
    "| 10 | {}           | Curly braces are used to create a dictionary in Python.                               |          |         \t|"
   ]
  },
  {
   "cell_type": "code",
   "execution_count": 9,
   "id": "f42d0d89-584e-4009-9408-6af50691041b",
   "metadata": {},
   "outputs": [
    {
     "name": "stdout",
     "output_type": "stream",
     "text": [
      "2.5\n",
      "2\n",
      "1\n"
     ]
    }
   ],
   "source": [
    "print(5/2) #returns the quotient\n",
    "print(5//2) #returns the quotient rounded down to the nearest integer\n",
    "print(5%2) #returns the remainder"
   ]
  }
 ],
 "metadata": {
  "kernelspec": {
   "display_name": "Python 3 (ipykernel)",
   "language": "python",
   "name": "python3"
  },
  "language_info": {
   "codemirror_mode": {
    "name": "ipython",
    "version": 3
   },
   "file_extension": ".py",
   "mimetype": "text/x-python",
   "name": "python",
   "nbconvert_exporter": "python",
   "pygments_lexer": "ipython3",
   "version": "3.11.5"
  },
  "toc": {
   "base_numbering": 1,
   "nav_menu": {},
   "number_sections": true,
   "sideBar": true,
   "skip_h1_title": false,
   "title_cell": "Table of Contents",
   "title_sidebar": "Contents",
   "toc_cell": false,
   "toc_position": {},
   "toc_section_display": true,
   "toc_window_display": false
  },
  "vscode": {
   "interpreter": {
    "hash": "31f2aee4e71d21fbe5cf8b01ff0e069b9275f58929596ceb00d14d90e3e16cd6"
   }
  }
 },
 "nbformat": 4,
 "nbformat_minor": 5
}
