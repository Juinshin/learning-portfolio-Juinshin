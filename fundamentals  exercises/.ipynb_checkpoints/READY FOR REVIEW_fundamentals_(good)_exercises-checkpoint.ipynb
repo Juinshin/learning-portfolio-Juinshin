{
 "cells": [
  {
   "attachments": {},
   "cell_type": "markdown",
   "id": "123456",
   "metadata": {},
   "source": [
    "<div style=\"text-align:left;font-size:2em\"><span style=\"font-weight:bolder;font-size:1.25em\">SP2273 | Learning Portfolio</span><br><br><span style=\"font-weight:bold;color:darkred\">Fundamentals (Good) Exercises</span></div>"
   ]
  },
  {
   "cell_type": "code",
   "execution_count": 2,
   "id": "85f8415a-a7ad-4f81-9184-9147ad8eab6c",
   "metadata": {},
   "outputs": [
    {
     "data": {
      "text/plain": [
       "True"
      ]
     },
     "execution_count": 2,
     "metadata": {},
     "output_type": "execute_result"
    }
   ],
   "source": [
    "fruits = ['apple', 'banana', 'pineapple', 'jackfruit']\n",
    "vegetables = ['celery', 'potato', 'broccoli', 'kale']\n",
    "'apple' in fruits"
   ]
  },
  {
   "cell_type": "code",
   "execution_count": 4,
   "id": "bccd6efd-1e94-4ab8-b0b0-4b3d0adad291",
   "metadata": {},
   "outputs": [
    {
     "data": {
      "text/plain": [
       "'0.29999999999999999'"
      ]
     },
     "execution_count": 4,
     "metadata": {},
     "output_type": "execute_result"
    }
   ],
   "source": [
    "f'{0.3:.17f}'"
   ]
  },
  {
   "cell_type": "code",
   "execution_count": 6,
   "id": "3c7c133b-ffbe-4107-94f1-863131ca1de5",
   "metadata": {},
   "outputs": [
    {
     "data": {
      "text/plain": [
       "True"
      ]
     },
     "execution_count": 6,
     "metadata": {},
     "output_type": "execute_result"
    }
   ],
   "source": [
    "import numpy as np\n",
    "a= 0.1\n",
    "a3= 0.3\n",
    "np.isclose(a * 3, a3)"
   ]
  },
  {
   "cell_type": "code",
   "execution_count": 7,
   "id": "7b1c264d-dfc6-4630-b58d-3abd7432f565",
   "metadata": {},
   "outputs": [
    {
     "name": "stdout",
     "output_type": "stream",
     "text": [
      " Hello TOM!\n"
     ]
    }
   ],
   "source": [
    "name = \"Tom\"\n",
    "print(f\" Hello {name.upper()}!\")"
   ]
  },
  {
   "cell_type": "code",
   "execution_count": 8,
   "id": "9d59045c-652d-4dc0-b46c-e7411d24d2c9",
   "metadata": {},
   "outputs": [
    {
     "name": "stdout",
     "output_type": "stream",
     "text": [
      "The value of 10 squared is 100!\n"
     ]
    }
   ],
   "source": [
    "x = 10\n",
    "print(f\"The value of {x} squared is {x**2}!\")"
   ]
  },
  {
   "cell_type": "code",
   "execution_count": 14,
   "id": "aa8229ef-a7b2-4093-8f77-4aadc7327036",
   "metadata": {},
   "outputs": [
    {
     "name": "stdout",
     "output_type": "stream",
     "text": [
      "                                                Tom                                                 \n"
     ]
    }
   ],
   "source": [
    "print(f'{name:^100}')      # A block of 30 characters;\n",
    "                          # aligned right"
   ]
  },
  {
   "cell_type": "code",
   "execution_count": 15,
   "id": "41196c3a-cd38-41f4-94e0-279a5c589fdc",
   "metadata": {},
   "outputs": [
    {
     "name": "stdout",
     "output_type": "stream",
     "text": [
      "The cube of pi to 6 decimal places is 31.006277\n",
      "The cube of pi to 6 decimal places is 3.100628e+01\n"
     ]
    }
   ],
   "source": [
    "print(f'The cube of pi to 6 decimal places is {np.pi**3:.6f}')\n",
    "print(f'The cube of pi to 6 decimal places is {np.pi**3:.6e}')"
   ]
  },
  {
   "cell_type": "code",
   "execution_count": 17,
   "id": "33cd6065-a9d8-4d83-8f17-687dbde0afab",
   "metadata": {},
   "outputs": [
    {
     "data": {
      "text/plain": [
       "42"
      ]
     },
     "execution_count": 17,
     "metadata": {},
     "output_type": "execute_result"
    }
   ],
   "source": [
    "y = 40\n",
    "y = y + 2\n",
    "y"
   ]
  },
  {
   "cell_type": "code",
   "execution_count": 18,
   "id": "f5e223fd-7728-4ffc-bd27-b7b6d8abf5e6",
   "metadata": {},
   "outputs": [
    {
     "name": "stdin",
     "output_type": "stream",
     "text": [
      "Give me a number? 5\n"
     ]
    },
    {
     "name": "stdout",
     "output_type": "stream",
     "text": [
      "You entered 5\n"
     ]
    }
   ],
   "source": [
    "user_input = input('Give me a number?')\n",
    "print('You entered', user_input)"
   ]
  },
  {
   "cell_type": "code",
   "execution_count": 24,
   "id": "08408726-c901-44e3-8c06-0cce0cea648a",
   "metadata": {},
   "outputs": [
    {
     "name": "stdin",
     "output_type": "stream",
     "text": [
      "Give me your numerical grade 35\n"
     ]
    },
    {
     "name": "stdout",
     "output_type": "stream",
     "text": [
      "The student's letter grade is: C\n"
     ]
    }
   ],
   "source": [
    "numerical_grade_input = float(input('Give me your numerical grade'))\n",
    "if numerical_grade_input >=70:\n",
    "    print('The student\\'s letter grade is:', 'A')\n",
    "elif numerical_grade_input >=50:\n",
    "    print('The student\\'s letter grade is:', 'B')\n",
    "elif numerical_grade_input >=35:\n",
    "    print('The student\\'s letter grade is:', 'C')\n",
    "else:\n",
    "    print('The student\\'s letter grade is:', 'Fail')\n",
    "    "
   ]
  },
  {
   "cell_type": "code",
   "execution_count": 1,
   "id": "c6772fdc-6b6c-48fc-8858-b3fd91eb00ed",
   "metadata": {},
   "outputs": [
    {
     "name": "stdin",
     "output_type": "stream",
     "text": [
      "Give me your numerical grade:  i\n"
     ]
    },
    {
     "name": "stdout",
     "output_type": "stream",
     "text": [
      "Please enter a valid numerical grade.\n"
     ]
    }
   ],
   "source": [
    "try:\n",
    "    numerical_grade_input = float(input('Give me your numerical grade: '))\n",
    "    if numerical_grade_input >= 70:\n",
    "        print('The student\\'s letter grade is: A')\n",
    "    elif numerical_grade_input >= 50:\n",
    "        print('The student\\'s letter grade is: B')\n",
    "    elif numerical_grade_input >= 35:\n",
    "        print('The student\\'s letter grade is: C')\n",
    "    else:\n",
    "        print('The student\\'s letter grade is: Fail')\n",
    "except ValueError:\n",
    "    print('Please enter a valid numerical grade.')"
   ]
  }
 ],
 "metadata": {
  "kernelspec": {
   "display_name": "Python 3 (ipykernel)",
   "language": "python",
   "name": "python3"
  },
  "language_info": {
   "codemirror_mode": {
    "name": "ipython",
    "version": 3
   },
   "file_extension": ".py",
   "mimetype": "text/x-python",
   "name": "python",
   "nbconvert_exporter": "python",
   "pygments_lexer": "ipython3",
   "version": "3.11.5"
  },
  "toc": {
   "base_numbering": 1,
   "nav_menu": {},
   "number_sections": true,
   "sideBar": true,
   "skip_h1_title": false,
   "title_cell": "Table of Contents",
   "title_sidebar": "Contents",
   "toc_cell": false,
   "toc_position": {},
   "toc_section_display": true,
   "toc_window_display": false
  },
  "vscode": {
   "interpreter": {
    "hash": "31f2aee4e71d21fbe5cf8b01ff0e069b9275f58929596ceb00d14d90e3e16cd6"
   }
  }
 },
 "nbformat": 4,
 "nbformat_minor": 5
}
