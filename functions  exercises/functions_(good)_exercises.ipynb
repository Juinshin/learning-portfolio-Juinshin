{
 "cells": [
  {
   "attachments": {},
   "cell_type": "markdown",
   "id": "123456",
   "metadata": {},
   "source": [
    "<div style=\"text-align:left;font-size:2em\"><span style=\"font-weight:bolder;font-size:1.25em\">SP2273 | Learning Portfolio</span><br><br><span style=\"font-weight:bold;color:darkred\">Functions (Good) Exercises</span></div>"
   ]
  },
  {
   "cell_type": "code",
   "execution_count": 2,
   "id": "a63d334f-1eef-4bd5-9afb-a325bb1bf776",
   "metadata": {},
   "outputs": [],
   "source": [
    "def convert_celsius(temperature_celsius, target_scale='Fahrenheit'):\n",
    "    if target_scale=='Kelvin':\n",
    "        temperature_celsius+=273.15\n",
    "    else:\n",
    "        temperature_celsius*=9/5\n",
    "        temperature_celsius+=32\n",
    "    return f'The temperature in {target_scale} is {temperature_celsius}'\n",
    "\n",
    "    "
   ]
  },
  {
   "cell_type": "code",
   "execution_count": 3,
   "id": "b7d713b4-de06-46a4-b7af-0369bd432ff3",
   "metadata": {},
   "outputs": [
    {
     "name": "stdout",
     "output_type": "stream",
     "text": [
      "The temperature in Kelvin is 1273.15\n",
      "The temperature in Fahrenheit is 1832.0\n"
     ]
    }
   ],
   "source": [
    "print(convert_celsius(1000, 'Kelvin'))\n",
    "print(convert_celsius(1000, 'Fahrenheit'))"
   ]
  },
  {
   "cell_type": "code",
   "execution_count": 4,
   "id": "27c9d3f9-2a26-4174-a41e-f1689213cd29",
   "metadata": {},
   "outputs": [],
   "source": [
    "def convert_fahrenheit(temperature_fahrenheit, target_scale='Celsius'):\n",
    "    if target_scale=='Celsius':\n",
    "        temperature_fahrenheit-=32\n",
    "        temperature_fahrenheit*=5/9\n",
    "    else:\n",
    "        temperature_fahrenheit-=32\n",
    "        temperature_fahrenheit*=5/9\n",
    "        temperature_fahrenheit+=273.15\n",
    "    return f'The temperature in {target_scale} is {temperature_fahrenheit}'\n"
   ]
  },
  {
   "cell_type": "code",
   "execution_count": 5,
   "id": "81bdf6fe-6cbb-4f9a-a4b2-54eecbde216f",
   "metadata": {},
   "outputs": [],
   "source": [
    "def convert_kelvin(temperature_kelvin, target_scale='Celsius'):\n",
    "    if target_scale=='Celsius':\n",
    "        temperature_kelvin-=273.15\n",
    "    else:\n",
    "        temperature_kelvin-=273.15\n",
    "        temperature_kelvin*=5/9\n",
    "        temperature_kelvin+=32\n",
    "    return f'The temperature in {target_scale} is {temperature_kelvin}'\n"
   ]
  },
  {
   "cell_type": "code",
   "execution_count": 6,
   "id": "65f9a621-8f23-4e2e-8f19-8a6d89fe9317",
   "metadata": {},
   "outputs": [],
   "source": [
    "def convert_temperature(temperature, source_scale, target_scale):\n",
    "    if source_scale=='Celsius':\n",
    "        return convert_celsius(temperature, target_scale)\n",
    "    elif source_scale=='Kelvin':\n",
    "        return convert_kelvin(temperature, target_scale)\n",
    "    else:\n",
    "        return convert_fahrenheit(temperature, target_scale)"
   ]
  }
 ],
 "metadata": {
  "kernelspec": {
   "display_name": "Python 3 (ipykernel)",
   "language": "python",
   "name": "python3"
  },
  "language_info": {
   "codemirror_mode": {
    "name": "ipython",
    "version": 3
   },
   "file_extension": ".py",
   "mimetype": "text/x-python",
   "name": "python",
   "nbconvert_exporter": "python",
   "pygments_lexer": "ipython3",
   "version": "3.11.5"
  },
  "toc": {
   "base_numbering": 1,
   "nav_menu": {},
   "number_sections": true,
   "sideBar": true,
   "skip_h1_title": false,
   "title_cell": "Table of Contents",
   "title_sidebar": "Contents",
   "toc_cell": false,
   "toc_position": {},
   "toc_section_display": true,
   "toc_window_display": false
  },
  "vscode": {
   "interpreter": {
    "hash": "31f2aee4e71d21fbe5cf8b01ff0e069b9275f58929596ceb00d14d90e3e16cd6"
   }
  }
 },
 "nbformat": 4,
 "nbformat_minor": 5
}
