{
 "cells": [
  {
   "cell_type": "code",
   "execution_count": null,
   "id": "d2cd02ee-3b61-44cc-930b-4120100089e1",
   "metadata": {},
   "outputs": [],
   "source": [
    "print('Hello World!')"
   ]
  },
  {
   "cell_type": "markdown",
   "id": "091085c0-57a3-48c8-9d8b-eadcd43f887b",
   "metadata": {},
   "source": [
    "The ships hung in the sky in much the same way that bricks don’t."
   ]
  },
  {
   "cell_type": "markdown",
   "id": "7feabac3-0654-44b6-9e24-6299a75ef93d",
   "metadata": {},
   "source": [
    "The ships *hung in the sky* in much the same way that **bricks don't.** <sup>1</sup><sub>QUOTE</sub>"
   ]
  },
  {
   "cell_type": "markdown",
   "id": "27de4947-6ea7-4f69-b41b-0cae4fca6ca0",
   "metadata": {},
   "source": [
    "`print('Hello World')`"
   ]
  },
  {
   "cell_type": "markdown",
   "id": "dbeb04f1-e86c-4166-b5b9-ebaee2110db2",
   "metadata": {},
   "source": [
    "[SP2273 Website](https://sps.nus.edu.sg/sp2273)"
   ]
  },
  {
   "cell_type": "markdown",
   "id": "d8ab26f2-c017-4d51-919c-75637ebac06f",
   "metadata": {},
   "source": [
    "![](data:image/jpeg;base64,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)"
   ]
  },
  {
   "cell_type": "markdown",
   "id": "3ee735da-9676-4988-892f-2eb53455b265",
   "metadata": {},
   "source": [
    "[Table Generator](https://www.tablesgenerator.com/)"
   ]
  },
  {
   "cell_type": "markdown",
   "id": "b4b402f3-5040-47e5-9fc5-64639c151001",
   "metadata": {},
   "source": [
    "1. Jap 3\n",
    "   - chap25-32\n",
    "1. Jap 4\n",
    "   - chap33-34\n",
    "1. CS1010S\n",
    "   - Coursemology\n",
    "1. SP2273\n",
    "   - Complete Basics of Python\n",
    "1. MA2001\n",
    "   - Chap 1 Practices\n",
    "   - Chap 2 Notes\n",
    "1. LSM2107\n",
    "   - Chap 11 Notes\n",
    "1. LSM1111\n",
    "   - Lect 1 extra 2 articles\n",
    "   - Lect 2 Summary\n",
    "   - Lect 2 extra 2 articles\n",
    "1. DTK1234\n",
    "   - Norman Door & Miro Board & Form\n",
    "1. HSS1000\n",
    "1. HSA1000"
   ]
  },
  {
   "cell_type": "markdown",
   "id": "9e0daf63-8ba4-4190-a977-eb404f3c0547",
   "metadata": {},
   "source": [
    "$$\n",
    "x = \\dfrac{-b \\pm \\sqrt{b^2 -4ac}}{2a}\n",
    "$$"
   ]
  },
  {
   "cell_type": "markdown",
   "id": "85aefdd7-9dcb-4e93-b160-6df25d94ea05",
   "metadata": {},
   "source": [
    "1. A storage location for software project files. It can track changes and allow for collaboration among multiple people.\n",
    "2. changes\n",
    "3. It is a snapshot of the changes made to a repository. It allows you to save the current state of the code after changes have been made, tagged with a message describing the change. This helps you track history of changes and revert if needed.\n",
    "4. It allows you to upload content you have committed that is different from the remote/online version of the repository. After making local changes and committing them, you can push them to a remote repository to back them up or share with others.\n",
    "5. It is the opposite of push, allowing for the fetching and downloading of content from a remote repository and then to update your local repository to match the content.\n",
    "6. GitHub is a web-based platform for hosting and collaborating on Git repositories, while GitHub Desktop is found on your local machine, providing a interface to work with Git and GitHub repositories on your own local device."
   ]
  },
  {
   "cell_type": "markdown",
   "id": "646049b1-184d-45c2-bcf9-82ee81c7973f",
   "metadata": {},
   "source": [
    "# **Quadratic Equations**\n",
    "---\n",
    "## **Introduction**\n",
    "![](https://upload.wikimedia.org/wikipedia/commons/thumb/f/f8/Polynomialdeg2.svg/300px-Polynomialdeg2.svg.png)\n",
    "\n",
    "(Image from the [<u>Wikipedia page on Quadratic equations</u>](https://en.wikipedia.org/wiki/Quadratic_equation))\n",
    "\n",
    "The general form of a quadratic equation is:\n",
    "$$\n",
    "ax^2+bx+c=0\n",
    "$$\n",
    "\n",
    "## **Solutions**\n",
    "\n",
    "Provided $a\\ne 0$, we can use elementary algebraic method called [<u>completing the square</u>](https://en.wikipedia.org/wiki/Completing_the_square) to show that a quadratic equation has the following solution:\n",
    "$$\n",
    "x = \\dfrac{-b \\pm \\sqrt{b^2-4ac}}{2a}\n",
    "$$\n",
    "\n",
    "## **Discriminant**\n",
    "\n",
    "The quantity $\\Delta=b^2-4ac$ is called the **discriminant** of the equation and decides the nature of its solutions. The table below shows the various possibilities.\n",
    "\n",
    "|   **Discriminant**   | **Roots**                            |\n",
    "|:--------------------:|--------------------------------------|\n",
    "| $\\Delta = b^2-4ac=0$ | A single solution of $-b/(2a)$       |\n",
    "| $\\Delta = b^2-4ac>0$ | Two distinct solutions               |\n",
    "| $\\Delta = b^2-4ac<0$ | No real solutions; both are complex. | |   |"
   ]
  },
  {
   "cell_type": "code",
   "execution_count": 1,
   "id": "d5057c02-0564-4f60-940c-86e2de91d6b2",
   "metadata": {},
   "outputs": [
    {
     "data": {
      "text/html": [
       "<style>\n",
       "table {float:left; width:100% }\n",
       "</style>\n"
      ],
      "text/plain": [
       "<IPython.core.display.HTML object>"
      ]
     },
     "metadata": {},
     "output_type": "display_data"
    }
   ],
   "source": [
    "%%html \n",
    "<style>\n",
    "table {float:left; width:100% }\n",
    "</style>"
   ]
  },
  {
   "cell_type": "markdown",
   "id": "1f1e1cee-b3ef-4587-9fc3-c09bcc93bea1",
   "metadata": {},
   "source": [
    "# **Quadratic Equations**\n",
    "---\n",
    "## **Introduction**\n",
    "![](https://upload.wikimedia.org/wikipedia/commons/thumb/f/f8/Polynomialdeg2.svg/300px-Polynomialdeg2.svg.png)\n",
    "\n",
    "(Image from the [<u>Wikipedia page on Quadratic equations</u>](https://en.wikipedia.org/wiki/Quadratic_equation))\n",
    "\n",
    "The general form of a quadratic equation is:\n",
    "$$\n",
    "ax^2+bx+c=0\n",
    "$$\n",
    "\n",
    "## **Solutions**\n",
    "\n",
    "Provided $a\\ne 0$, we can use elementary algebraic method called [<u>completing the square</u>](https://en.wikipedia.org/wiki/Completing_the_square) to show that a quadratic equation has the following solution:\n",
    "$$\n",
    "x = \\dfrac{-b \\pm \\sqrt{b^2-4ac}}{2a}\n",
    "$$\n",
    "\n",
    "## **Discriminant**\n",
    "\n",
    "The quantity $\\Delta=b^2-4ac$ is called the **discriminant** of the equation and decides the nature of its solutions. The table below shows the various possibilities.\n",
    "\n",
    "|   **Discriminant**   | **Roots**                            |\n",
    "|:--------------------:|--------------------------------------|\n",
    "| $\\Delta = b^2-4ac=0$ | A single solution of $-b/(2a)$       |\n",
    "| $\\Delta = b^2-4ac>0$ | Two distinct solutions               |\n",
    "| $\\Delta = b^2-4ac<0$ | No real solutions; both are complex. | |   |"
   ]
  },
  {
   "cell_type": "code",
   "execution_count": 2,
   "id": "4a60c3b8-3c2b-490e-baf7-51a7a8b1e1c7",
   "metadata": {},
   "outputs": [
    {
     "name": "stdout",
     "output_type": "stream",
     "text": [
      "C:\\Users\\juins\\Documents\\GitHub\\learning-portfolio-Juinshin\\using jupyter\n"
     ]
    }
   ],
   "source": [
    "!cd"
   ]
  },
  {
   "cell_type": "code",
   "execution_count": 3,
   "id": "9a9a6192-b840-49f3-9d2d-162dda05eb4a",
   "metadata": {},
   "outputs": [
    {
     "name": "stdout",
     "output_type": "stream",
     "text": [
      " Volume in drive C is Windows-SSD\n",
      " Volume Serial Number is 2C74-D452\n",
      "\n",
      " Directory of C:\\Users\\juins\\Documents\\GitHub\\learning-portfolio-Juinshin\\using jupyter\n",
      "\n",
      "19/01/2024  03:23 pm    <DIR>          .\n",
      "18/01/2024  12:09 am    <DIR>          ..\n",
      "19/01/2024  11:26 am    <DIR>          .ipynb_checkpoints\n",
      "19/01/2024  03:23 pm            24,024 using-jupyter_need.ipynb\n",
      "18/01/2024  12:09 am             2,512 using_jupyter_(good).ipynb\n",
      "18/01/2024  12:09 am             2,949 using_jupyter_(need).ipynb\n",
      "               3 File(s)         29,485 bytes\n",
      "               3 Dir(s)  855,787,331,584 bytes free\n"
     ]
    }
   ],
   "source": [
    "!dir"
   ]
  },
  {
   "cell_type": "code",
   "execution_count": null,
   "id": "edb19ebe-62d5-420b-abb6-d6b90ab79f7f",
   "metadata": {},
   "outputs": [],
   "source": []
  }
 ],
 "metadata": {
  "kernelspec": {
   "display_name": "Python 3 (ipykernel)",
   "language": "python",
   "name": "python3"
  },
  "language_info": {
   "codemirror_mode": {
    "name": "ipython",
    "version": 3
   },
   "file_extension": ".py",
   "mimetype": "text/x-python",
   "name": "python",
   "nbconvert_exporter": "python",
   "pygments_lexer": "ipython3",
   "version": "3.11.5"
  }
 },
 "nbformat": 4,
 "nbformat_minor": 5
}
