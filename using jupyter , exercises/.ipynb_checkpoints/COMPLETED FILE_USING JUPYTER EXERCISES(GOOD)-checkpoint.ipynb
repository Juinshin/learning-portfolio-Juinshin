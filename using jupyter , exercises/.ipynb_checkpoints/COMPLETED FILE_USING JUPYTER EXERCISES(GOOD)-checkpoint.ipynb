{
 "cells": [
  {
   "cell_type": "code",
   "execution_count": null,
   "id": "557cc18f-c6bd-4949-95ee-b5063faa16fd",
   "metadata": {},
   "outputs": [],
   "source": [
    "while True:\n",
    "    print('*', end='')\n",
    "    break"
   ]
  },
  {
   "cell_type": "code",
   "execution_count": null,
   "id": "62c847b3-6d77-430c-af61-5ec046703ef0",
   "metadata": {},
   "outputs": [],
   "source": [
    "print ='PRINT'"
   ]
  },
  {
   "cell_type": "code",
   "execution_count": null,
   "id": "e766c038-f087-4bfd-b41a-dd74c1a78a21",
   "metadata": {},
   "outputs": [],
   "source": [
    "print('Hello World')"
   ]
  }
 ],
 "metadata": {
  "kernelspec": {
   "display_name": "Python 3 (ipykernel)",
   "language": "python",
   "name": "python3"
  },
  "language_info": {
   "codemirror_mode": {
    "name": "ipython",
    "version": 3
   },
   "file_extension": ".py",
   "mimetype": "text/x-python",
   "name": "python",
   "nbconvert_exporter": "python",
   "pygments_lexer": "ipython3",
   "version": "3.11.5"
  }
 },
 "nbformat": 4,
 "nbformat_minor": 5
}
