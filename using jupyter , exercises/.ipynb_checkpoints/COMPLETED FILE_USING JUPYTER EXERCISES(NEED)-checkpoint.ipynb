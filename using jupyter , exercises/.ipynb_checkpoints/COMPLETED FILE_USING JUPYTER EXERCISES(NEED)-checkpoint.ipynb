{
 "cells": [
  {
   "cell_type": "markdown",
   "id": "b57233b5",
   "metadata": {},
   "source": [
    "1. A storage location for software project files. It can track changes and allow for collaboration among multiple people.\n",
    "2. changes\n",
    "3. It is a snapshot of the changes made to a repository. It allows you to save the current state of the code after changes have been made, tagged with a message describing the change. This helps you track history of changes and revert if needed.\n",
    "4. It allows you to upload content you have committed that is different from the remote/online version of the repository. After making local changes and committing them, you can push them to a remote repository to back them up or share with others.\n",
    "5. It is the opposite of push, allowing for the fetching and downloading of content from a remote repository and then to update your local repository to match the content.\n",
    "6. GitHub is a web-based platform for hosting and collaborating on Git repositories, while GitHub Desktop is found on your local machine, providing a interface to work with Git and GitHub repositories on your own local device."
   ]
  },
  {
   "cell_type": "markdown",
   "id": "cffd9c96",
   "metadata": {},
   "source": [
    "# **Quadratic Equations**\n",
    "---\n",
    "## **Introduction**\n",
    "![](https://upload.wikimedia.org/wikipedia/commons/thumb/f/f8/Polynomialdeg2.svg/300px-Polynomialdeg2.svg.png)\n",
    "\n",
    "(Image from the [<u>Wikipedia page on Quadratic equations</u>](https://en.wikipedia.org/wiki/Quadratic_equation))\n",
    "\n",
    "The general form of a quadratic equation is:\n",
    "$$\n",
    "ax^2+bx+c=0\n",
    "$$\n",
    "\n",
    "## **Solutions**\n",
    "\n",
    "Provided $a\\ne 0$, we can use elementary algebraic method called [<u>completing the square</u>](https://en.wikipedia.org/wiki/Completing_the_square) to show that a quadratic equation has the following solution:\n",
    "$$\n",
    "x = \\dfrac{-b \\pm \\sqrt{b^2-4ac}}{2a}\n",
    "$$\n",
    "\n",
    "## **Discriminant**\n",
    "\n",
    "The quantity $\\Delta=b^2-4ac$ is called the **discriminant** of the equation and decides the nature of its solutions. The table below shows the various possibilities.\n",
    "\n",
    "|    **Discriminant**   |  **Roots**                            |\n",
    "| :--------------------:| :------------------------------------ |\n",
    "|  $\\Delta = b^2-4ac=0$ |  A single solution of $-b/(2a)$       |\n",
    "|  $\\Delta = b^2-4ac>0$ |  Two distinct solutions               |\n",
    "|  $\\Delta = b^2-4ac<0$ |  No real solutions; both are complex. | "
   ]
  },
  {
   "cell_type": "code",
   "execution_count": 2,
   "id": "36089254",
   "metadata": {},
   "outputs": [
    {
     "data": {
      "text/html": [
       "<style>\n",
       "table {float:left; width:100% }\n",
       "</style>\n"
      ],
      "text/plain": [
       "<IPython.core.display.HTML object>"
      ]
     },
     "metadata": {},
     "output_type": "display_data"
    }
   ],
   "source": [
    "%%html \n",
    "<style>\n",
    "table {float:left; width:100% }\n",
    "</style>"
   ]
  }
 ],
 "metadata": {
  "kernelspec": {
   "display_name": "Python 3 (ipykernel)",
   "language": "python",
   "name": "python3"
  },
  "language_info": {
   "codemirror_mode": {
    "name": "ipython",
    "version": 3
   },
   "file_extension": ".py",
   "mimetype": "text/x-python",
   "name": "python",
   "nbconvert_exporter": "python",
   "pygments_lexer": "ipython3",
   "version": "3.11.5"
  }
 },
 "nbformat": 4,
 "nbformat_minor": 5
}
