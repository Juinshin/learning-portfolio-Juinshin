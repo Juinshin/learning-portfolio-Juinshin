{
 "cells": [
  {
   "attachments": {},
   "cell_type": "markdown",
   "id": "123456",
   "metadata": {},
   "source": [
    "<div style=\"text-align:left;font-size:2em\"><span style=\"font-weight:bolder;font-size:1.25em\">SP2273 | Learning Portfolio</span><br><br><span style=\"font-weight:bold;color:darkred\">Loops (Need) Exercises</span></div>"
   ]
  },
  {
   "cell_type": "code",
   "execution_count": 3,
   "id": "cf6ace61-620f-4d46-85e5-113edb170ce1",
   "metadata": {},
   "outputs": [
    {
     "name": "stdout",
     "output_type": "stream",
     "text": [
      "Celcius is 0 and Fahrenheit is 32.0\n",
      "Celcius is 5 and Fahrenheit is 41.0\n",
      "Celcius is 10 and Fahrenheit is 50.0\n",
      "Celcius is 15 and Fahrenheit is 59.0\n",
      "Celcius is 20 and Fahrenheit is 68.0\n",
      "Celcius is 25 and Fahrenheit is 77.0\n",
      "Celcius is 30 and Fahrenheit is 86.0\n",
      "Celcius is 35 and Fahrenheit is 95.0\n",
      "Celcius is 40 and Fahrenheit is 104.0\n",
      "Celcius is 45 and Fahrenheit is 113.0\n",
      "Celcius is 50 and Fahrenheit is 122.0\n"
     ]
    }
   ],
   "source": [
    "temperatures_celsius = [\n",
    "    0, 5, 10, 15, 20, 25,\n",
    "    30, 35, 40, 45, 50\n",
    "]\n",
    "for temperature in temperatures_celsius:\n",
    "    temperature_fahrenheit = temperature*9/5 +32\n",
    "    print(f'Celcius is {temperature} and Fahrenheit is {temperature_fahrenheit}') "
   ]
  },
  {
   "cell_type": "code",
   "execution_count": 4,
   "id": "5a6ee12f-165d-4803-9555-9737c568cd2b",
   "metadata": {},
   "outputs": [
    {
     "name": "stdout",
     "output_type": "stream",
     "text": [
      "A1\tA2\tA3\t\n",
      "\n",
      "B1\tB2\tB3\t\n",
      "\n",
      "C1\tC2\tC3\t\n",
      "\n"
     ]
    }
   ],
   "source": [
    "for letter in ['A', 'B', 'C']:\n",
    "    for number in [1, 2, 3]:\n",
    "        print(f'{letter}{number}', end='\\t')\n",
    "    print('\\n')"
   ]
  },
  {
   "cell_type": "code",
   "execution_count": 14,
   "id": "94ee37b4-2161-4250-bdcd-83190812bda2",
   "metadata": {},
   "outputs": [
    {
     "name": "stdout",
     "output_type": "stream",
     "text": [
      "1 : 1\t 2\t 3\t 4\t 5\t\n",
      "2 : 2\t 4\t 6\t 8\t10\t\n",
      "3 : 3\t 6\t 9\t12\t15\t\n",
      "4 : 4\t 8\t12\t16\t20\t\n",
      "5 : 5\t10\t15\t20\t25\t\n"
     ]
    }
   ],
   "source": [
    "numbers = [1,2,3,4,5]\n",
    "for count, number in enumerate(numbers, 1):\n",
    "    for j in range(1, 6):\n",
    "        print(f'{count} : {count}', end='\\t') if j==1 else print(f'{number*j:2}', end='\\t')\n",
    "    print()\n"
   ]
  }
 ],
 "metadata": {
  "kernelspec": {
   "display_name": "Python 3 (ipykernel)",
   "language": "python",
   "name": "python3"
  },
  "language_info": {
   "codemirror_mode": {
    "name": "ipython",
    "version": 3
   },
   "file_extension": ".py",
   "mimetype": "text/x-python",
   "name": "python",
   "nbconvert_exporter": "python",
   "pygments_lexer": "ipython3",
   "version": "3.11.5"
  },
  "toc": {
   "base_numbering": 1,
   "nav_menu": {},
   "number_sections": true,
   "sideBar": true,
   "skip_h1_title": false,
   "title_cell": "Table of Contents",
   "title_sidebar": "Contents",
   "toc_cell": false,
   "toc_position": {},
   "toc_section_display": true,
   "toc_window_display": false
  },
  "vscode": {
   "interpreter": {
    "hash": "31f2aee4e71d21fbe5cf8b01ff0e069b9275f58929596ceb00d14d90e3e16cd6"
   }
  }
 },
 "nbformat": 4,
 "nbformat_minor": 5
}
