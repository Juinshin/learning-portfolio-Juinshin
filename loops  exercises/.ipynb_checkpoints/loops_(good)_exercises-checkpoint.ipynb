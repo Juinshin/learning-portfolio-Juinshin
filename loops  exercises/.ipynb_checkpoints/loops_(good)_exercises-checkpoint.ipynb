{
 "cells": [
  {
   "attachments": {},
   "cell_type": "markdown",
   "id": "123456",
   "metadata": {},
   "source": [
    "<div style=\"text-align:left;font-size:2em\"><span style=\"font-weight:bolder;font-size:1.25em\">SP2273 | Learning Portfolio</span><br><br><span style=\"font-weight:bold;color:darkred\">Loops (Good) Exercises</span></div>"
   ]
  },
  {
   "cell_type": "code",
   "execution_count": 10,
   "id": "6b7a75ec-28a9-4e38-a0c4-63ad86d7af3e",
   "metadata": {},
   "outputs": [
    {
     "name": "stdout",
     "output_type": "stream",
     "text": [
      "[1, 9, 25, 49, 81]\n"
     ]
    }
   ],
   "source": [
    "square_list = []\n",
    "for number in range(10):\n",
    "    if number%2!=0:\n",
    "        square_list.append(number**2)\n",
    "    else:\n",
    "        continue\n",
    "print(square_list)"
   ]
  },
  {
   "cell_type": "code",
   "execution_count": 9,
   "id": "595fb34f-9a9e-4288-8182-4bbb7907ebc7",
   "metadata": {},
   "outputs": [
    {
     "data": {
      "text/plain": [
       "[1, 9, 25, 49, 81]"
      ]
     },
     "execution_count": 9,
     "metadata": {},
     "output_type": "execute_result"
    }
   ],
   "source": [
    "[number**2 for number in range(10) if number%2!=0]"
   ]
  },
  {
   "cell_type": "markdown",
   "id": "a1a8f4b6-72ce-43fa-826b-7066ff063318",
   "metadata": {},
   "source": [
    "19.8 µs ± 510 ns per loop (mean ± std. dev. of 7 runs, 100,000 loops each) vs 2.09 µs ± 154 ns per loop (mean ± std. dev. of 7 runs, 100,000 loops each). List comprehension is faster"
   ]
  },
  {
   "cell_type": "code",
   "execution_count": 11,
   "id": "fdbc97cb-b58c-43f0-a240-1eb7e59ac878",
   "metadata": {},
   "outputs": [
    {
     "name": "stdout",
     "output_type": "stream",
     "text": [
      "10\n"
     ]
    }
   ],
   "source": [
    "quantity=100\n",
    "years_taken=0\n",
    "while quantity>50:\n",
    "    quantity-=5\n",
    "    years_taken+=1\n",
    "print(years_taken)"
   ]
  },
  {
   "cell_type": "code",
   "execution_count": 12,
   "id": "e9371b5e-63c2-4136-aeef-facab7aac0f3",
   "metadata": {},
   "outputs": [
    {
     "name": "stdout",
     "output_type": "stream",
     "text": [
      "Year: 2016, Change in concentration: 3.410000000000025 ppm\n"
     ]
    }
   ],
   "source": [
    "co2_data = [\n",
    "    (2000, 369.55), (2001, 371.14), (2002, 373.28), \n",
    "    (2003, 375.80), (2004, 377.52), (2005, 379.80), \n",
    "    (2006, 381.90), (2007, 383.79), (2008, 385.60), \n",
    "    (2009, 387.43), (2010, 389.90), (2011, 391.65), \n",
    "    (2012, 393.85), (2013, 396.52), (2014, 398.65),\n",
    "    (2015, 400.83), (2016, 404.24), (2017, 406.55), \n",
    "    (2018, 408.52), (2019, 411.44), (2020, 414.24)\n",
    "]\n",
    "# Use list comprehension to identify the years with an increase of 3 ppm or more\n",
    "years_with_increase = [(co2_data[i][0], co2_data[i][1] - co2_data[i-1][1]) for i in range(1, len(co2_data)) if co2_data[i][1] - co2_data[i-1][1] >= 3]\n",
    "\n",
    "# Print the years along with the corresponding change in concentration\n",
    "for year, change in years_with_increase:\n",
    "    print(f'Year: {year}, Change in concentration: {change} ppm')"
   ]
  }
 ],
 "metadata": {
  "kernelspec": {
   "display_name": "Python 3 (ipykernel)",
   "language": "python",
   "name": "python3"
  },
  "language_info": {
   "codemirror_mode": {
    "name": "ipython",
    "version": 3
   },
   "file_extension": ".py",
   "mimetype": "text/x-python",
   "name": "python",
   "nbconvert_exporter": "python",
   "pygments_lexer": "ipython3",
   "version": "3.11.5"
  },
  "toc": {
   "base_numbering": 1,
   "nav_menu": {},
   "number_sections": true,
   "sideBar": true,
   "skip_h1_title": false,
   "title_cell": "Table of Contents",
   "title_sidebar": "Contents",
   "toc_cell": false,
   "toc_position": {},
   "toc_section_display": true,
   "toc_window_display": false
  },
  "vscode": {
   "interpreter": {
    "hash": "31f2aee4e71d21fbe5cf8b01ff0e069b9275f58929596ceb00d14d90e3e16cd6"
   }
  }
 },
 "nbformat": 4,
 "nbformat_minor": 5
}
