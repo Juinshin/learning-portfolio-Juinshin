{
 "cells": [
  {
   "attachments": {},
   "cell_type": "markdown",
   "id": "123456",
   "metadata": {},
   "source": [
    "<div style=\"text-align:left;font-size:2em\"><span style=\"font-weight:bolder;font-size:1.25em\">SP2273 | Learning Portfolio</span><br><br><span style=\"font-weight:bold;color:darkred\">Loops (Nice)</span></div>"
   ]
  },
  {
   "attachments": {},
   "cell_type": "markdown",
   "id": "25c3919b",
   "metadata": {},
   "source": [
    "# 1 There is more to list comprehension"
   ]
  },
  {
   "cell_type": "code",
   "execution_count": 1,
   "id": "464334a8-ebbd-482e-891f-b3ed54aa83e4",
   "metadata": {},
   "outputs": [
    {
     "data": {
      "text/plain": [
       "[[0, 'A'],\n",
       " [0, 'B'],\n",
       " [0, 'C'],\n",
       " [1, 'A'],\n",
       " [1, 'B'],\n",
       " [1, 'C'],\n",
       " [2, 'A'],\n",
       " [2, 'B'],\n",
       " [2, 'C'],\n",
       " [3, 'A'],\n",
       " [3, 'B'],\n",
       " [3, 'C'],\n",
       " [4, 'A'],\n",
       " [4, 'B'],\n",
       " [4, 'C']]"
      ]
     },
     "execution_count": 1,
     "metadata": {},
     "output_type": "execute_result"
    }
   ],
   "source": [
    "[[a,b] for a in range(5) for b in ['A', 'B', 'C']]"
   ]
  },
  {
   "attachments": {},
   "cell_type": "markdown",
   "id": "aceac8c7",
   "metadata": {},
   "source": [
    "# 2 Zipping a dictionary"
   ]
  },
  {
   "cell_type": "code",
   "execution_count": 2,
   "id": "2d889396-71d8-4258-b275-c27f7299ec44",
   "metadata": {},
   "outputs": [
    {
     "data": {
      "text/plain": [
       "{'Natasha Romanoff': 'Black Widow',\n",
       " 'Tony Stark': 'Iron Man',\n",
       " 'Stephen Strange': 'Doctor Strange'}"
      ]
     },
     "execution_count": 2,
     "metadata": {},
     "output_type": "execute_result"
    }
   ],
   "source": [
    "super_names=[\"Black Widow\", \"Iron Man\", \"Doctor Strange\"]\n",
    "real_names=[\"Natasha Romanoff\", \"Tony Stark\", \"Stephen Strange\"]\n",
    "\n",
    "dict(zip(real_names, super_names))"
   ]
  },
  {
   "attachments": {},
   "cell_type": "markdown",
   "id": "180b94a2",
   "metadata": {},
   "source": [
    "# 3 for and while has an else"
   ]
  },
  {
   "cell_type": "code",
   "execution_count": 3,
   "id": "dce5fa44-cc43-4a3d-bafe-f4475a877fd6",
   "metadata": {},
   "outputs": [
    {
     "name": "stdout",
     "output_type": "stream",
     "text": [
      "No negative numbers in the list\n"
     ]
    }
   ],
   "source": [
    "numbers=[0, 1, 2, 3, 4, 5, 6, 7, 8, 9]\n",
    "\n",
    "for i in numbers:\n",
    "    if i < 0: break\n",
    "else:\n",
    "    print('No negative numbers in the list')"
   ]
  },
  {
   "attachments": {},
   "cell_type": "markdown",
   "id": "c67aff49",
   "metadata": {},
   "source": [
    "# Exercises"
   ]
  },
  {
   "cell_type": "markdown",
   "id": "041583f1-02d9-4ea0-ad25-dfb671252d7d",
   "metadata": {},
   "source": [
    "Exercise 1: The issue with the suggested code is that it modifies the list while iterating over it.\n",
    "\n",
    "Exercise 2:The issue with the provided code is that the expression result = [[]] * maximum_n creates an empty list where later on, maximum_n references to the same empty list, rather than creating separate empty lists. As a result, when elements are appended to result[n - 1], the changes are reflected in all the sublists because they are essentially the same list.\n",
    "Creating a list of squares with for loop vs. Creating a list of squares with while loop:\r\n",
    "\r\n",
    "Usually, a for loop is slightly faster than a while loop for iterating through a known range of values. So, Option 1 might be faster.\r\n",
    "Creating a list of squares with a for loop vs. Creating a list of squares with a list comprehension loop:\r\n",
    "\r\n",
    "List comprehensions are generally more concise and can be faster than a regular for loop, so Option 2 with list comprehension may be faster.\r\n",
    "Creating a list of squares using list append() vs. Creating a list of squares using list +=:\r\n",
    "\r\n",
    "Using list += might be slower than append() since append() is optimized for adding elements to the end of a list. So, Option 1 using append() is likely faster.\r\n",
    "Creating a list of squares using list append() vs. Creating a list of squares using append() of Numpy:\r\n",
    "\r\n",
    "NumPy operations are often faster than regular Python list operations due to their optimized C implementation. So, Option 2 using NumPy's append() might be faster for larger datasets.\r\n",
    "Creating a list of squares using NumPy vs. Creating a list of squares using List comprehension loop:\r\n",
    "\r\n",
    "NumPy operations are usually faster for numerical operations, especially for large datasets. So, Option 1 using NumPy is likely faster.\n",
    "\n",
    "# Your solution here\n",
    "\n",
    "\n"
   ]
  }
 ],
 "metadata": {
  "kernelspec": {
   "display_name": "Python 3 (ipykernel)",
   "language": "python",
   "name": "python3"
  },
  "language_info": {
   "codemirror_mode": {
    "name": "ipython",
    "version": 3
   },
   "file_extension": ".py",
   "mimetype": "text/x-python",
   "name": "python",
   "nbconvert_exporter": "python",
   "pygments_lexer": "ipython3",
   "version": "3.11.5"
  },
  "toc": {
   "base_numbering": 1,
   "nav_menu": {},
   "number_sections": true,
   "sideBar": true,
   "skip_h1_title": false,
   "title_cell": "Table of Contents",
   "title_sidebar": "Contents",
   "toc_cell": false,
   "toc_position": {},
   "toc_section_display": true,
   "toc_window_display": false
  },
  "vscode": {
   "interpreter": {
    "hash": "31f2aee4e71d21fbe5cf8b01ff0e069b9275f58929596ceb00d14d90e3e16cd6"
   }
  }
 },
 "nbformat": 4,
 "nbformat_minor": 5
}
