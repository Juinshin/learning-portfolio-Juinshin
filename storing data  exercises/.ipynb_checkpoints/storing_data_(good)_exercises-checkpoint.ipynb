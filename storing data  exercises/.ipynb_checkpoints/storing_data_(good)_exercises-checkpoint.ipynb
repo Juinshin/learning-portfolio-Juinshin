{
 "cells": [
  {
   "attachments": {},
   "cell_type": "markdown",
   "id": "123456",
   "metadata": {},
   "source": [
    "<div style=\"text-align:left;font-size:2em\"><span style=\"font-weight:bolder;font-size:1.25em\">SP2273 | Learning Portfolio</span><br><br><span style=\"font-weight:bold;color:darkred\">Storing Data (Good) Exercises</span></div>"
   ]
  },
  {
   "cell_type": "code",
   "execution_count": 3,
   "id": "92783d25-e127-4926-97cf-7d6051de8c65",
   "metadata": {},
   "outputs": [
    {
     "data": {
      "text/plain": [
       "array([1, 2, 3])"
      ]
     },
     "execution_count": 3,
     "metadata": {},
     "output_type": "execute_result"
    }
   ],
   "source": [
    "import numpy as np\n",
    "np_array = np.array([1, 2, 3, 4, 5, 6, 7, 8, 9, 10])\n",
    "np_array[~(np_array > 3)]                 # '~' means 'NOT'"
   ]
  },
  {
   "cell_type": "markdown",
   "id": "388ea63e-c94f-4e12-a0ec-3947fef5f9ed",
   "metadata": {},
   "source": [
    "Always use the Bitwise NOT(~), Bitwise OR(|) and Bitwise AND(&) when combining masks with NumPy.\n",
    "Always use brackets to clarify what you are asking the mask to do."
   ]
  },
  {
   "cell_type": "markdown",
   "id": "8d36572c-509e-4be1-9cda-ed5554cd75c3",
   "metadata": {},
   "source": [
    "| Term       | Brief description                                               |\n",
    "|------------|:-----------------------------------------------------------------|\n",
    "| Subsetting | Creates a sublist of original list based on condition           |\n",
    "| Indexing   | assessing a specific element of a list based on its position    |\n",
    "| Slicing    | Extracting a continuous segment of a list                       |\n",
    "| Masking    | Creating a Boolean to decide which elements of a list to select |"
   ]
  },
  {
   "cell_type": "code",
   "execution_count": 10,
   "id": "0e03747e-8f60-424e-9f0f-9fb06b95bc0f",
   "metadata": {},
   "outputs": [
    {
     "data": {
      "text/plain": [
       "array([['1', 'A'],\n",
       "       ['3', 'C'],\n",
       "       ['2', 'B'],\n",
       "       ['4', 'D'],\n",
       "       ['5', 'E'],\n",
       "       ['7', 'G'],\n",
       "       ['6', 'F'],\n",
       "       ['8', 'H'],\n",
       "       ['10', 'J'],\n",
       "       ['9', 'I']], dtype='<U11')"
      ]
     },
     "execution_count": 10,
     "metadata": {},
     "output_type": "execute_result"
    }
   ],
   "source": [
    "np_array_2d"
   ]
  },
  {
   "cell_type": "code",
   "execution_count": 11,
   "id": "b739272a-fc24-431d-9a1b-78b063f818d9",
   "metadata": {},
   "outputs": [
    {
     "name": "stdout",
     "output_type": "stream",
     "text": [
      "['A', 'C', 'E', 'G', 'I']\n"
     ]
    }
   ],
   "source": [
    "import numpy as np\n",
    "\n",
    "# Given 2D NumPy array\n",
    "np_array_2d = np.array([[1, \"A\"], [3, \"C\"], [2, \"B\"], [4, \"D\"], [5, \"E\"], [7, \"G\"], [6, \"F\"], [8, \"H\"], [10, \"J\"], [9, \"I\"]])\n",
    "\n",
    "# Create a boolean mask for odd numbers using np.where\n",
    "mask = np.where(np_array_2d[:, 0].astype(int) % 2 != 0, True, False)\n",
    "\n",
    "# Use the mask to subset the letters corresponding to the odd numbers\n",
    "result = list(np_array_2d[mask, 1])\n",
    "\n",
    "print(result)"
   ]
  }
 ],
 "metadata": {
  "kernelspec": {
   "display_name": "Python 3 (ipykernel)",
   "language": "python",
   "name": "python3"
  },
  "language_info": {
   "codemirror_mode": {
    "name": "ipython",
    "version": 3
   },
   "file_extension": ".py",
   "mimetype": "text/x-python",
   "name": "python",
   "nbconvert_exporter": "python",
   "pygments_lexer": "ipython3",
   "version": "3.11.5"
  },
  "toc": {
   "base_numbering": 1,
   "nav_menu": {},
   "number_sections": true,
   "sideBar": true,
   "skip_h1_title": false,
   "title_cell": "Table of Contents",
   "title_sidebar": "Contents",
   "toc_cell": false,
   "toc_position": {},
   "toc_section_display": true,
   "toc_window_display": false
  },
  "vscode": {
   "interpreter": {
    "hash": "31f2aee4e71d21fbe5cf8b01ff0e069b9275f58929596ceb00d14d90e3e16cd6"
   }
  }
 },
 "nbformat": 4,
 "nbformat_minor": 5
}
